{
 "cells": [
  {
   "cell_type": "code",
   "execution_count": 1,
   "metadata": {},
   "outputs": [],
   "source": [
    "import numpy as np\n",
    "import pandas as pd\n",
    "import seaborn as sns\n",
    "import matplotlib.pyplot as plt\n",
    "\n",
    "from sklearn import datasets, linear_model\n",
    "from sklearn.metrics import mean_squared_error, r2_score\n",
    "from sklearn.model_selection import train_test_split"
   ]
  },
  {
   "cell_type": "code",
   "execution_count": 2,
   "metadata": {},
   "outputs": [
    {
     "name": "stdout",
     "output_type": "stream",
     "text": [
      "'back up'\t\t\t\t    'processed data.xlsx'\r\n",
      " data\t\t\t\t\t    'Processing Data.html'\r\n",
      " extract_data\t\t\t\t    'Processing Data.ipynb'\r\n",
      " figures\t\t\t\t     Processing_data_sen2cor.ipynb\r\n",
      " new_data\t\t\t\t     __pycache__\r\n",
      " Note.txt\t\t\t\t     readme.md\r\n",
      " Observation-TSS-data_24Jun2019.xlsx\t     result_save.txt\r\n",
      "'Prediction for data from 06mar2020.ipynb'   result_sen2cor.txt\r\n",
      "'Prediction for data with sen2cor.ipynb'     result.txt\r\n",
      " Prediction.html\t\t\t     sen2cor\r\n",
      " Prediction.ipynb\t\t\t     sentinel2_extract_data.py\r\n",
      "'Processed data_6Mar2020.xlsx'\t\t     sentinel2_extract_find.py\r\n",
      "'processed data.csv'\t\t\t     sentinel2_process_data.py\r\n",
      " processed_data_sen2cor.csv\t\t     sentinel_download\r\n",
      " processed_data_sen2cor.xlsx\t\t     Tutorial.ipynb\r\n"
     ]
    }
   ],
   "source": [
    "!ls"
   ]
  },
  {
   "cell_type": "code",
   "execution_count": 13,
   "metadata": {},
   "outputs": [
    {
     "data": {
      "text/html": [
       "<div>\n",
       "<style scoped>\n",
       "    .dataframe tbody tr th:only-of-type {\n",
       "        vertical-align: middle;\n",
       "    }\n",
       "\n",
       "    .dataframe tbody tr th {\n",
       "        vertical-align: top;\n",
       "    }\n",
       "\n",
       "    .dataframe thead th {\n",
       "        text-align: right;\n",
       "    }\n",
       "</style>\n",
       "<table border=\"1\" class=\"dataframe\">\n",
       "  <thead>\n",
       "    <tr style=\"text-align: right;\">\n",
       "      <th></th>\n",
       "      <th>Date's Observation</th>\n",
       "      <th>Sentinel2_Code</th>\n",
       "      <th>Date Image</th>\n",
       "      <th>Observed TSS</th>\n",
       "      <th>Band2</th>\n",
       "      <th>Band3</th>\n",
       "      <th>Band4</th>\n",
       "      <th>Band8</th>\n",
       "    </tr>\n",
       "  </thead>\n",
       "  <tbody>\n",
       "    <tr>\n",
       "      <th>0</th>\n",
       "      <td>17/03/2017</td>\n",
       "      <td>T48QUJ_20170318T033531_B</td>\n",
       "      <td>18032017</td>\n",
       "      <td>278.558</td>\n",
       "      <td>1767</td>\n",
       "      <td>1818</td>\n",
       "      <td>1725</td>\n",
       "      <td>2940</td>\n",
       "    </tr>\n",
       "    <tr>\n",
       "      <th>1</th>\n",
       "      <td>17/03/2017</td>\n",
       "      <td>T48QUJ_20170318T033531_B</td>\n",
       "      <td>18032017</td>\n",
       "      <td>128.603</td>\n",
       "      <td>742</td>\n",
       "      <td>907</td>\n",
       "      <td>865</td>\n",
       "      <td>923</td>\n",
       "    </tr>\n",
       "    <tr>\n",
       "      <th>2</th>\n",
       "      <td>17/03/2017</td>\n",
       "      <td>T48QUJ_20170318T033531_B</td>\n",
       "      <td>18032017</td>\n",
       "      <td>128.136</td>\n",
       "      <td>720</td>\n",
       "      <td>842</td>\n",
       "      <td>821</td>\n",
       "      <td>777</td>\n",
       "    </tr>\n",
       "    <tr>\n",
       "      <th>3</th>\n",
       "      <td>17/03/2017</td>\n",
       "      <td>T48QUJ_20170318T033531_B</td>\n",
       "      <td>18032017</td>\n",
       "      <td>116.209</td>\n",
       "      <td>785</td>\n",
       "      <td>1079</td>\n",
       "      <td>1099</td>\n",
       "      <td>1128</td>\n",
       "    </tr>\n",
       "    <tr>\n",
       "      <th>4</th>\n",
       "      <td>17/03/2017</td>\n",
       "      <td>T48QUJ_20170318T033531_B</td>\n",
       "      <td>18032017</td>\n",
       "      <td>95.614</td>\n",
       "      <td>844</td>\n",
       "      <td>1233</td>\n",
       "      <td>1300</td>\n",
       "      <td>716</td>\n",
       "    </tr>\n",
       "    <tr>\n",
       "      <th>5</th>\n",
       "      <td>17/03/2017</td>\n",
       "      <td>T48QUJ_20170318T033531_B</td>\n",
       "      <td>18032017</td>\n",
       "      <td>139.061</td>\n",
       "      <td>667</td>\n",
       "      <td>1082</td>\n",
       "      <td>1345</td>\n",
       "      <td>1068</td>\n",
       "    </tr>\n",
       "    <tr>\n",
       "      <th>6</th>\n",
       "      <td>17/03/2017</td>\n",
       "      <td>T48QUJ_20170318T033531_B</td>\n",
       "      <td>18032017</td>\n",
       "      <td>199.232</td>\n",
       "      <td>902</td>\n",
       "      <td>1281</td>\n",
       "      <td>1654</td>\n",
       "      <td>1688</td>\n",
       "    </tr>\n",
       "    <tr>\n",
       "      <th>7</th>\n",
       "      <td>17/03/2017</td>\n",
       "      <td>T48QUJ_20170318T033531_B</td>\n",
       "      <td>18032017</td>\n",
       "      <td>143.726</td>\n",
       "      <td>841</td>\n",
       "      <td>1081</td>\n",
       "      <td>1219</td>\n",
       "      <td>1130</td>\n",
       "    </tr>\n",
       "    <tr>\n",
       "      <th>8</th>\n",
       "      <td>17/03/2017</td>\n",
       "      <td>T48QUJ_20170318T033531_B</td>\n",
       "      <td>18032017</td>\n",
       "      <td>169.700</td>\n",
       "      <td>961</td>\n",
       "      <td>1329</td>\n",
       "      <td>1601</td>\n",
       "      <td>1411</td>\n",
       "    </tr>\n",
       "    <tr>\n",
       "      <th>9</th>\n",
       "      <td>16/05/2017</td>\n",
       "      <td>T48QUJ_20170517T033541_B</td>\n",
       "      <td>17052017</td>\n",
       "      <td>733.000</td>\n",
       "      <td>8007</td>\n",
       "      <td>8199</td>\n",
       "      <td>8191</td>\n",
       "      <td>8552</td>\n",
       "    </tr>\n",
       "  </tbody>\n",
       "</table>\n",
       "</div>"
      ],
      "text/plain": [
       "  Date's Observation            Sentinel2_Code  Date Image  Observed TSS  \\\n",
       "0         17/03/2017  T48QUJ_20170318T033531_B    18032017       278.558   \n",
       "1         17/03/2017  T48QUJ_20170318T033531_B    18032017       128.603   \n",
       "2         17/03/2017  T48QUJ_20170318T033531_B    18032017       128.136   \n",
       "3         17/03/2017  T48QUJ_20170318T033531_B    18032017       116.209   \n",
       "4         17/03/2017  T48QUJ_20170318T033531_B    18032017        95.614   \n",
       "5         17/03/2017  T48QUJ_20170318T033531_B    18032017       139.061   \n",
       "6         17/03/2017  T48QUJ_20170318T033531_B    18032017       199.232   \n",
       "7         17/03/2017  T48QUJ_20170318T033531_B    18032017       143.726   \n",
       "8         17/03/2017  T48QUJ_20170318T033531_B    18032017       169.700   \n",
       "9         16/05/2017  T48QUJ_20170517T033541_B    17052017       733.000   \n",
       "\n",
       "   Band2  Band3  Band4  Band8  \n",
       "0   1767   1818   1725   2940  \n",
       "1    742    907    865    923  \n",
       "2    720    842    821    777  \n",
       "3    785   1079   1099   1128  \n",
       "4    844   1233   1300    716  \n",
       "5    667   1082   1345   1068  \n",
       "6    902   1281   1654   1688  \n",
       "7    841   1081   1219   1130  \n",
       "8    961   1329   1601   1411  \n",
       "9   8007   8199   8191   8552  "
      ]
     },
     "execution_count": 13,
     "metadata": {},
     "output_type": "execute_result"
    }
   ],
   "source": [
    "df = pd.read_excel('processed_data_sen2cor.xlsx')\n",
    "df.head(10)"
   ]
  },
  {
   "cell_type": "code",
   "execution_count": 14,
   "metadata": {},
   "outputs": [],
   "source": [
    "df = df.drop(columns=[\"Date's Observation\", \"Sentinel2_Code\", \"Date Image\"])"
   ]
  },
  {
   "cell_type": "code",
   "execution_count": 15,
   "metadata": {},
   "outputs": [
    {
     "data": {
      "text/html": [
       "<div>\n",
       "<style scoped>\n",
       "    .dataframe tbody tr th:only-of-type {\n",
       "        vertical-align: middle;\n",
       "    }\n",
       "\n",
       "    .dataframe tbody tr th {\n",
       "        vertical-align: top;\n",
       "    }\n",
       "\n",
       "    .dataframe thead th {\n",
       "        text-align: right;\n",
       "    }\n",
       "</style>\n",
       "<table border=\"1\" class=\"dataframe\">\n",
       "  <thead>\n",
       "    <tr style=\"text-align: right;\">\n",
       "      <th></th>\n",
       "      <th>Observed TSS</th>\n",
       "      <th>Band2</th>\n",
       "      <th>Band3</th>\n",
       "      <th>Band4</th>\n",
       "      <th>Band8</th>\n",
       "    </tr>\n",
       "  </thead>\n",
       "  <tbody>\n",
       "    <tr>\n",
       "      <th>Observed TSS</th>\n",
       "      <td>1.000000</td>\n",
       "      <td>0.742233</td>\n",
       "      <td>0.766141</td>\n",
       "      <td>0.782480</td>\n",
       "      <td>0.822265</td>\n",
       "    </tr>\n",
       "    <tr>\n",
       "      <th>Band2</th>\n",
       "      <td>0.742233</td>\n",
       "      <td>1.000000</td>\n",
       "      <td>0.995622</td>\n",
       "      <td>0.982530</td>\n",
       "      <td>0.966065</td>\n",
       "    </tr>\n",
       "    <tr>\n",
       "      <th>Band3</th>\n",
       "      <td>0.766141</td>\n",
       "      <td>0.995622</td>\n",
       "      <td>1.000000</td>\n",
       "      <td>0.994757</td>\n",
       "      <td>0.972758</td>\n",
       "    </tr>\n",
       "    <tr>\n",
       "      <th>Band4</th>\n",
       "      <td>0.782480</td>\n",
       "      <td>0.982530</td>\n",
       "      <td>0.994757</td>\n",
       "      <td>1.000000</td>\n",
       "      <td>0.970061</td>\n",
       "    </tr>\n",
       "    <tr>\n",
       "      <th>Band8</th>\n",
       "      <td>0.822265</td>\n",
       "      <td>0.966065</td>\n",
       "      <td>0.972758</td>\n",
       "      <td>0.970061</td>\n",
       "      <td>1.000000</td>\n",
       "    </tr>\n",
       "  </tbody>\n",
       "</table>\n",
       "</div>"
      ],
      "text/plain": [
       "              Observed TSS     Band2     Band3     Band4     Band8\n",
       "Observed TSS      1.000000  0.742233  0.766141  0.782480  0.822265\n",
       "Band2             0.742233  1.000000  0.995622  0.982530  0.966065\n",
       "Band3             0.766141  0.995622  1.000000  0.994757  0.972758\n",
       "Band4             0.782480  0.982530  0.994757  1.000000  0.970061\n",
       "Band8             0.822265  0.966065  0.972758  0.970061  1.000000"
      ]
     },
     "execution_count": 15,
     "metadata": {},
     "output_type": "execute_result"
    },
    {
     "data": {
      "image/png": "[encoded data removed]",
      "text/plain": [
       "<Figure size 864x576 with 2 Axes>"
      ]
     },
     "metadata": {
      "needs_background": "light"
     },
     "output_type": "display_data"
    }
   ],
   "source": [
    "# compute correlation\n",
    "corr = df.corr()\n",
    "\n",
    "f, ax = plt.subplots(figsize=(12, 8))\n",
    "# Draw the heatmap\n",
    "ax = sns.heatmap(corr, annot=True, linewidths=.5)\n",
    "corr"
   ]
  },
  {
   "cell_type": "code",
   "execution_count": 2,
   "metadata": {},
   "outputs": [
    {
     "ename": "NameError",
     "evalue": "name 'df' is not defined",
     "output_type": "error",
     "traceback": [
      "\u001b[0;31m---------------------------------------------------------------------------\u001b[0m",
      "\u001b[0;31mNameError\u001b[0m                                 Traceback (most recent call last)",
      "\u001b[0;32m<ipython-input-2-c7465c2c5b02>\u001b[0m in \u001b[0;36m<module>\u001b[0;34m\u001b[0m\n\u001b[1;32m      1\u001b[0m \u001b[0;31m# four bands\u001b[0m\u001b[0;34m\u001b[0m\u001b[0;34m\u001b[0m\u001b[0;34m\u001b[0m\u001b[0m\n\u001b[0;32m----> 2\u001b[0;31m \u001b[0mX\u001b[0m \u001b[0;34m=\u001b[0m \u001b[0mdf\u001b[0m\u001b[0;34m[\u001b[0m\u001b[0;34m[\u001b[0m\u001b[0;34m'Band2'\u001b[0m\u001b[0;34m,\u001b[0m\u001b[0;34m'Band3'\u001b[0m\u001b[0;34m,\u001b[0m\u001b[0;34m'Band4'\u001b[0m\u001b[0;34m,\u001b[0m\u001b[0;34m'Band8'\u001b[0m\u001b[0;34m]\u001b[0m\u001b[0;34m]\u001b[0m\u001b[0;34m\u001b[0m\u001b[0;34m\u001b[0m\u001b[0m\n\u001b[0m\u001b[1;32m      3\u001b[0m \u001b[0;31m# all bands\u001b[0m\u001b[0;34m\u001b[0m\u001b[0;34m\u001b[0m\u001b[0;34m\u001b[0m\u001b[0m\n\u001b[1;32m      4\u001b[0m \u001b[0;31m#X = df[['Band1','Band2','Band3','Band4', 'Band5','Band6','Band7','Band8','Band9','Band10','Band11']]\u001b[0m\u001b[0;34m\u001b[0m\u001b[0;34m\u001b[0m\u001b[0;34m\u001b[0m\u001b[0m\n\u001b[1;32m      5\u001b[0m \u001b[0mY\u001b[0m \u001b[0;34m=\u001b[0m \u001b[0mdf\u001b[0m\u001b[0;34m[\u001b[0m\u001b[0;34m'Observed TSS'\u001b[0m\u001b[0;34m]\u001b[0m\u001b[0;34m\u001b[0m\u001b[0;34m\u001b[0m\u001b[0m\n",
      "\u001b[0;31mNameError\u001b[0m: name 'df' is not defined"
     ]
    }
   ],
   "source": [
    "# four bands\n",
    "X = df[['Band2','Band3','Band4','Band8']]\n",
    "# all bands\n",
    "#X = df[['Band1','Band2','Band3','Band4', 'Band5','Band6','Band7','Band8','Band9','Band10','Band11']]\n",
    "Y = df['Observed TSS']\n",
    "\n",
    "print(\"number of examples:\", len(X))\n",
    "X.describe()"
   ]
  },
  {
   "cell_type": "code",
   "execution_count": 17,
   "metadata": {},
   "outputs": [
    {
     "data": {
      "text/plain": [
       "count     99.000000\n",
       "mean     282.128121\n",
       "std      190.688148\n",
       "min       64.000000\n",
       "25%      136.009500\n",
       "50%      223.000000\n",
       "75%      371.810500\n",
       "max      815.000000\n",
       "Name: Observed TSS, dtype: float64"
      ]
     },
     "execution_count": 17,
     "metadata": {},
     "output_type": "execute_result"
    }
   ],
   "source": [
    "Y.describe()"
   ]
  },
  {
   "cell_type": "code",
   "execution_count": 18,
   "metadata": {},
   "outputs": [
    {
     "name": "stdout",
     "output_type": "stream",
     "text": [
      "Coefficients: \n",
      " [-1.33592797  0.57575231  0.31118468  1.46132605]\n",
      "Mean squared error: 0.14\n",
      "Variance score: 0.74\n"
     ]
    }
   ],
   "source": [
    "# normalize data\n",
    "x_mean = X.mean()\n",
    "X_norm = (X-x_mean)/x_mean\n",
    "y_mean = Y.mean()\n",
    "Y_norm = (Y-y_mean)/y_mean\n",
    "\n",
    "# split train, test data\n",
    "X_train, X_test, Y_train, Y_test = train_test_split(X_norm, Y_norm, test_size=0.20, random_state=42)\n",
    "\n",
    "# Create linear regression object\n",
    "regr = linear_model.LinearRegression()\n",
    "\n",
    "# Train the model using the training sets\n",
    "regr.fit(X_train, Y_train)\n",
    "\n",
    "# Make predictions using the testing set\n",
    "Y_pred = regr.predict(X_test)\n",
    "\n",
    "# The coefficients\n",
    "print('Coefficients: \\n', regr.coef_)\n",
    "# The mean squared error\n",
    "print(\"Mean squared error: %.2f\"\n",
    "      % mean_squared_error(Y_test, Y_pred))\n",
    "# Explained variance score: 1 is perfect prediction\n",
    "print('Variance score: %.2f' % r2_score(Y_test, Y_pred))"
   ]
  },
  {
   "cell_type": "code",
   "execution_count": 19,
   "metadata": {},
   "outputs": [
    {
     "name": "stderr",
     "output_type": "stream",
     "text": [
      "/home/thanh/.local/lib/python3.6/site-packages/ipykernel_launcher.py:18: UserWarning: Matplotlib is currently using module://ipykernel.pylab.backend_inline, which is a non-GUI backend, so cannot show the figure.\n"
     ]
    },
    {
     "data": {
      "image/png": "[encoded data removed]",
      "text/plain": [
       "<Figure size 432x288 with 1 Axes>"
      ]
     },
     "metadata": {
      "needs_background": "light"
     },
     "output_type": "display_data"
    }
   ],
   "source": [
    "# Convert back to un-nomalized data\n",
    "Y_pred=((Y_pred*y_mean)+y_mean)\n",
    "Y_test=((Y_test*y_mean)+y_mean)\n",
    "\n",
    "# Different between Y_pred, Y_test\n",
    "re = pd.DataFrame()\n",
    "re[\"Y_test\"] = Y_test\n",
    "re[\"Y_pred\"] = Y_pred\n",
    "re[\"delta\"] = Y_pred-Y_test\n",
    "\n",
    "re[:30]\n",
    "\n",
    "fig,ax = plt.subplots()\n",
    "ax.scatter(Y_test, Y_pred)\n",
    "ax.plot([Y_test.min(), Y_test.max()], [Y_test.min(), Y_test.max()], 'k--', lw=4)\n",
    "ax.set_xlabel('Measured')\n",
    "ax.set_ylabel('Predicted')\n",
    "fig.show()"
   ]
  },
  {
   "cell_type": "markdown",
   "metadata": {},
   "source": [
    "## see train data fit"
   ]
  },
  {
   "cell_type": "code",
   "execution_count": 20,
   "metadata": {},
   "outputs": [
    {
     "name": "stderr",
     "output_type": "stream",
     "text": [
      "/home/thanh/.local/lib/python3.6/site-packages/ipykernel_launcher.py:20: UserWarning: Matplotlib is currently using module://ipykernel.pylab.backend_inline, which is a non-GUI backend, so cannot show the figure.\n"
     ]
    },
    {
     "data": {
      "image/png": "[encoded data removed]",
      "text/plain": [
       "<Figure size 432x288 with 1 Axes>"
      ]
     },
     "metadata": {
      "needs_background": "light"
     },
     "output_type": "display_data"
    }
   ],
   "source": [
    "# Make predictions using the testing set\n",
    "Y_train_pred = regr.predict(X_train)\n",
    "\n",
    "# Convert back to un-nomalized data\n",
    "Y_train_predic=((Y_train_pred * y_mean)+y_mean)\n",
    "Y_train_target=((Y_train * y_mean)+y_mean)\n",
    "\n",
    "# Different between Y_pred, Y_test\n",
    "re = pd.DataFrame()\n",
    "re[\"Y_train_predic\"] = Y_train_predic\n",
    "re[\"Y_train_target\"] = Y_train_target\n",
    "re[\"delta\"] = Y_train_predic-Y_train_target\n",
    "re[:30]\n",
    "\n",
    "fig,ax = plt.subplots()\n",
    "ax.scatter(Y_train_target, Y_train_predic)\n",
    "ax.plot([Y_train_target.min(), Y_train_target.max()], [Y_train_target.min(), Y_train_target.max()], 'k--', lw=4)\n",
    "ax.set_xlabel('Measured')\n",
    "ax.set_ylabel('Predicted')\n",
    "fig.show()\n"
   ]
  },
  {
   "cell_type": "code",
   "execution_count": null,
   "metadata": {},
   "outputs": [],
   "source": []
  }
 ],
 "metadata": {
  "kernelspec": {
   "display_name": "Python 3",
   "language": "python",
   "name": "python3"
  },
  "language_info": {
   "codemirror_mode": {
    "name": "ipython",
    "version": 3
   },
   "file_extension": ".py",
   "mimetype": "text/x-python",
   "name": "python",
   "nbconvert_exporter": "python",
   "pygments_lexer": "ipython3",
   "version": "3.6.9"
  }
 },
 "nbformat": 4,
 "nbformat_minor": 4
}
